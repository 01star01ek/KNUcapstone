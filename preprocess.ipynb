{
 "cells": [
  {
   "cell_type": "code",
   "execution_count": 1,
   "metadata": {},
   "outputs": [],
   "source": [
    "import os, sys\n",
    "import cv2\n",
    "import time\n",
    "import numpy as np\n",
    "import torch"
   ]
  },
  {
   "cell_type": "code",
   "execution_count": 2,
   "metadata": {},
   "outputs": [
    {
     "name": "stdout",
     "output_type": "stream",
     "text": [
      "testTargetList : 영상개수=363\n",
      "label_dict :  {'ㄱ': 0, 'ㄴ': 1, 'ㄷ': 2, 'ㄹ': 3, 'ㅁ': 4, 'ㅂ': 5, 'ㅅ': 6, 'ㅇ': 7, 'ㅈ': 8, 'ㅊ': 9, 'ㅋ': 10, 'ㅌ': 11, 'ㅍ': 12, 'ㅎ': 13, 'ㅏ': 14, 'ㅑ': 15, 'ㅓ': 16, 'ㅕ': 17, 'ㅗ': 18, 'ㅛ': 19, 'ㅜ': 20, 'ㅠ': 21, 'ㅡ': 22, 'ㅣ': 23, 'ㅐ': 24, 'ㅒ': 25, 'ㅔ': 26, 'ㅖ': 27, 'ㅢ': 28, 'ㅚ': 29, 'ㅟ': 30}\n"
     ]
    },
    {
     "data": {
      "text/plain": [
       "{'ㄱ': 0,\n",
       " 'ㄴ': 1,\n",
       " 'ㄷ': 2,\n",
       " 'ㄹ': 3,\n",
       " 'ㅁ': 4,\n",
       " 'ㅂ': 5,\n",
       " 'ㅅ': 6,\n",
       " 'ㅇ': 7,\n",
       " 'ㅈ': 8,\n",
       " 'ㅊ': 9,\n",
       " 'ㅋ': 10,\n",
       " 'ㅌ': 11,\n",
       " 'ㅍ': 12,\n",
       " 'ㅎ': 13,\n",
       " 'ㅏ': 14,\n",
       " 'ㅑ': 15,\n",
       " 'ㅓ': 16,\n",
       " 'ㅕ': 17,\n",
       " 'ㅗ': 18,\n",
       " 'ㅛ': 19,\n",
       " 'ㅜ': 20,\n",
       " 'ㅠ': 21,\n",
       " 'ㅡ': 22,\n",
       " 'ㅣ': 23,\n",
       " 'ㅐ': 24,\n",
       " 'ㅒ': 25,\n",
       " 'ㅔ': 26,\n",
       " 'ㅖ': 27,\n",
       " 'ㅢ': 28,\n",
       " 'ㅚ': 29,\n",
       " 'ㅟ': 30}"
      ]
     },
     "execution_count": 2,
     "metadata": {},
     "output_type": "execute_result"
    }
   ],
   "source": [
    "def load_avi():\n",
    "    actions = ['ㄱ', 'ㄴ', 'ㄷ', 'ㄹ', 'ㅁ', 'ㅂ', 'ㅅ', 'ㅇ', 'ㅈ', 'ㅊ', 'ㅋ', 'ㅌ', 'ㅍ', 'ㅎ',\n",
    "                'ㅏ', 'ㅑ', 'ㅓ', 'ㅕ', 'ㅗ', 'ㅛ', 'ㅜ', 'ㅠ', 'ㅡ', 'ㅣ',\n",
    "                'ㅐ', 'ㅒ', 'ㅔ', 'ㅖ', 'ㅢ', 'ㅚ', 'ㅟ']\n",
    "    label_dict = dict()\n",
    "\n",
    "    for i in range(len(actions)):\n",
    "        label_dict[actions[i]] = i\n",
    "\n",
    "    videoFolderPath = \"./SignLanguagedataset/output_video\"\n",
    "    videoTestList = os.listdir(videoFolderPath)\n",
    "\n",
    "    testTargetList =[]\n",
    "\n",
    "    for videoPath in videoTestList:\n",
    "        actionVideoPath = f'{videoFolderPath}/{videoPath}'\n",
    "        actionVideoList = os.listdir(actionVideoPath)\n",
    "        for actionVideo in actionVideoList:\n",
    "            fullVideoPath = f'{actionVideoPath}/{actionVideo}'\n",
    "            testTargetList.append(fullVideoPath)\n",
    "\n",
    "    testTargetList = sorted(testTargetList, key=lambda x:x[x.find(\"/\", 9)+1], reverse=True)\n",
    "\n",
    "    return testTargetList, label_dict\n",
    "\n",
    "video_paths, label_dict = load_avi()\n",
    "print(f\"testTargetList : 영상개수={len(video_paths)}\") \n",
    "print(\"label_dict : \", label_dict)\n",
    "label_dict"
   ]
  },
  {
   "cell_type": "code",
   "execution_count": 3,
   "metadata": {},
   "outputs": [],
   "source": [
    "from tqdm import tqdm\n",
    "import re\n",
    "\n",
    "def make_directory(output_dir, data_folder):\n",
    "    folder = f\"{output_dir}/{data_folder}\"\n",
    "    image_folder = f\"{output_dir}/{data_folder}/images\"\n",
    "    labels_folder = f\"{output_dir}/{data_folder}/labels\"\n",
    "\n",
    "    if not os.path.exists(folder):\n",
    "        os.makedirs(image_folder)\n",
    "        os.makedirs(labels_folder)\n",
    "\n",
    "# Example usage\n",
    "output_dir = './dataset'\n",
    "make_directory(output_dir, data_folder=\"train\")\n",
    "make_directory(output_dir, data_folder=\"valid\")\n",
    "make_directory(output_dir, data_folder=\"test\")"
   ]
  },
  {
   "cell_type": "code",
   "execution_count": 4,
   "metadata": {},
   "outputs": [
    {
     "name": "stdout",
     "output_type": "stream",
     "text": [
      "train :  12775 52281\n"
     ]
    }
   ],
   "source": [
    "image_folder = \"./dataset/train/images\"\n",
    "labels_folder = \"./dataset/train/labels\"\n",
    "\n",
    "image_files = set(os.listdir(image_folder))\n",
    "label_files = set(os.listdir(labels_folder))\n",
    "\n",
    "# 이미지 파일에서 레이블을 제거하여 순수한 파일 이름을 얻음\n",
    "image_base_names = {os.path.splitext(name)[0] for name in image_files}\n",
    "label_base_names = {os.path.splitext(name)[0] for name in label_files}\n",
    "\n",
    "# 불일치 찾기\n",
    "missing_labels = image_base_names - label_base_names\n",
    "missing_images = label_base_names - image_base_names\n",
    "print(\"train : \",len(missing_labels), len(label_base_names))"
   ]
  },
  {
   "cell_type": "code",
   "execution_count": 5,
   "metadata": {},
   "outputs": [
    {
     "name": "stdout",
     "output_type": "stream",
     "text": [
      "valid :  1635 6497\n"
     ]
    }
   ],
   "source": [
    "image_folder = \"./dataset/valid/images\"\n",
    "labels_folder = \"./dataset/valid/labels\"\n",
    "\n",
    "image_files = set(os.listdir(image_folder))\n",
    "label_files = set(os.listdir(labels_folder))\n",
    "\n",
    "# 이미지 파일에서 레이블을 제거하여 순수한 파일 이름을 얻음\n",
    "image_base_names = {os.path.splitext(name)[0] for name in image_files}\n",
    "label_base_names = {os.path.splitext(name)[0] for name in label_files}\n",
    "\n",
    "# 불일치 찾기\n",
    "missing_labels = image_base_names - label_base_names\n",
    "missing_images = label_base_names - image_base_names\n",
    "print(\"valid : \",len(missing_labels), len(label_base_names))"
   ]
  },
  {
   "cell_type": "code",
   "execution_count": 6,
   "metadata": {},
   "outputs": [
    {
     "name": "stdout",
     "output_type": "stream",
     "text": [
      "test :  1569 6570\n"
     ]
    }
   ],
   "source": [
    "image_folder = \"./dataset/test/images\"\n",
    "labels_folder = \"./dataset/test/labels\"\n",
    "\n",
    "image_files = set(os.listdir(image_folder))\n",
    "label_files = set(os.listdir(labels_folder))\n",
    "\n",
    "# 이미지 파일에서 레이블을 제거하여 순수한 파일 이름을 얻음\n",
    "image_base_names = {os.path.splitext(name)[0] for name in image_files}\n",
    "label_base_names = {os.path.splitext(name)[0] for name in label_files}\n",
    "\n",
    "# 불일치 찾기\n",
    "missing_labels = image_base_names - label_base_names\n",
    "missing_images = label_base_names - image_base_names\n",
    "\n",
    "print(\"test : \", len(missing_labels), len(label_base_names))"
   ]
  },
  {
   "cell_type": "code",
   "execution_count": 7,
   "metadata": {},
   "outputs": [],
   "source": [
    "import os\n",
    "\n",
    "def create_file_list(image_dir, label_dir, output_file):\n",
    "    with open(output_file, 'w') as file:\n",
    "        for image_filename in os.listdir(image_dir):\n",
    "            if image_filename.endswith('.jpg') or image_filename.endswith('.jpeg') or image_filename.endswith('.png'):\n",
    "                label_filename = image_filename.replace('.jpg', '.txt').replace('.jpeg', '.txt').replace('.png', '.txt')\n",
    "                label_path = os.path.join(label_dir, label_filename)\n",
    "                if os.path.exists(label_path):\n",
    "                    image_path = os.path.join(image_dir, image_filename)\n",
    "                    file.write(image_path + '\\n')\n",
    "                    \n",
    "# 각 디렉토리 경로 설정\n",
    "train_images_dir = 'dataset/train/images'\n",
    "train_labels_dir = 'dataset/train/labels'\n",
    "valid_images_dir = 'dataset/valid/images'\n",
    "valid_labels_dir = 'dataset/valid/labels'\n",
    "test_images_dir = 'dataset/test/images'\n",
    "test_labels_dir = 'dataset/test/labels'\n",
    "\n",
    "# 출력 파일 경로 설정\n",
    "train_list_file = 'dataset/train/train.txt'\n",
    "valid_list_file = 'dataset/valid/valid.txt'\n",
    "test_list_file = 'dataset/test/test.txt'\n",
    "\n",
    "# 파일 리스트 생성\n",
    "create_file_list(train_images_dir, train_labels_dir, train_list_file)\n",
    "create_file_list(valid_images_dir, valid_labels_dir, valid_list_file)\n",
    "create_file_list(test_images_dir, test_labels_dir, test_list_file)"
   ]
  },
  {
   "cell_type": "code",
   "execution_count": 3,
   "metadata": {},
   "outputs": [],
   "source": [
    "import os\n",
    "import shutil\n",
    "\n",
    "def copy_files(file_list, target_dir):\n",
    "    with open(file_list, 'r') as file:\n",
    "        for line in file:\n",
    "            image_path = line.strip()\n",
    "            label_path = image_path.replace('/images/', '/labels/').replace('.jpg', '.txt').replace('.jpeg', '.txt').replace('.png', '.txt')\n",
    "\n",
    "            if os.path.exists(image_path) and os.path.exists(label_path):\n",
    "                # 이미지 파일을 대상 디렉토리로 복사\n",
    "                shutil.copy(image_path, target_dir)\n",
    "                # 레이블 파일을 대상 디렉토리로 복사\n",
    "                shutil.copy(label_path, target_dir)\n",
    "\n",
    "# 각 파일 리스트 경로 설정\n",
    "train_list_file = 'dataset/train/train.txt'\n",
    "valid_list_file = 'dataset/valid/valid.txt'\n",
    "test_list_file = 'dataset/test/test.txt'\n",
    "\n",
    "# 복사할 대상 디렉토리 설정\n",
    "merged_dir = 'dataset/merged'\n",
    "os.makedirs(merged_dir, exist_ok=True)\n",
    "\n",
    "# 파일 복사\n",
    "copy_files(train_list_file, merged_dir)\n",
    "copy_files(valid_list_file, merged_dir)\n",
    "copy_files(test_list_file, merged_dir)"
   ]
  },
  {
   "cell_type": "code",
   "execution_count": 4,
   "metadata": {},
   "outputs": [
    {
     "name": "stdout",
     "output_type": "stream",
     "text": [
      "image(1968), label(1659)\n"
     ]
    }
   ],
   "source": [
    "import os\n",
    "\n",
    "image_folder = \"./dataset/test/images\"\n",
    "labels_folder = \"./dataset/test/labels\"\n",
    "# 폴더가 이미 존재하는 경우\n",
    "image_files = os.listdir(image_folder)\n",
    "label_files = os.listdir(labels_folder)\n",
    "print(f\"image({len(image_files)}), label({len(label_files)})\")\n"
   ]
  }
 ],
 "metadata": {
  "kernelspec": {
   "display_name": "py3_11",
   "language": "python",
   "name": "python3"
  },
  "language_info": {
   "codemirror_mode": {
    "name": "ipython",
    "version": 3
   },
   "file_extension": ".py",
   "mimetype": "text/x-python",
   "name": "python",
   "nbconvert_exporter": "python",
   "pygments_lexer": "ipython3",
   "version": "3.11.0"
  }
 },
 "nbformat": 4,
 "nbformat_minor": 2
}
